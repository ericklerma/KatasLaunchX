{
 "cells": [
  {
   "cell_type": "markdown",
   "metadata": {},
   "source": [
    "## Condicional de advertencia\n",
    "\n",
    "##### Una lógica condicional que imprima una advertencia si un asteroide se acerca a la Tierra demasiado rápido. La velocidad del asteroide varía dependiendo de lo cerca que esté del sol, y cualquier velocidad superior a 25 kilómetros por segundo (km/s) merece una advertencia\n",
    "\n",
    "##### Un asteroide se acerca, y viaja a una velocidad de 49 km/s."
   ]
  },
  {
   "cell_type": "code",
   "execution_count": 1,
   "metadata": {},
   "outputs": [
    {
     "name": "stdout",
     "output_type": "stream",
     "text": [
      "¡ADVERTENCIA! ¡Asteroide se acerca a la tierra demasiado rápido!\n"
     ]
    }
   ],
   "source": [
    "# Añadir el código necesario para crear una variable que guarde la velocidad del asteroide.\n",
    "# Escribe una expresión de prueba para calcular si necesita una advertencia.\n",
    "# Agregue las instrucciones que se ejecutarán si la expresión de prueba es true o false.\n",
    "\n",
    "v = 49\n",
    "if v > 25:\n",
    "    print('¡ADVERTENCIA! ¡Asteroide se acerca a la tierra demasiado rápido!')\n",
    "else:\n",
    "    print('Todo normal')\n"
   ]
  },
  {
   "cell_type": "markdown",
   "metadata": {},
   "source": [
    "#### Si un asteroide entra en la atmósfera de la Tierra a una velocidad mayor o igual a 20 km/s, a veces produce un rayo de luz que se puede ver desde la Tierra. Escribe la lógica condicional que usa declaraciones if, else, y elif para alertar a las personas de todo el mundo que deben buscar un asteroide en el cielo. ¡Hay uno que se dirige a la tierra ahora a una velocidad de 19 km/s!"
   ]
  },
  {
   "cell_type": "code",
   "execution_count": 2,
   "metadata": {},
   "outputs": [
    {
     "name": "stdout",
     "output_type": "stream",
     "text": [
      "Aviso: No hay nada en el cielo\n"
     ]
    }
   ],
   "source": [
    "v = 19\n",
    "if v > 20:\n",
    "    print ('¡Alerta! Buscar asteroide en el cielo')\n",
    "elif v == 20:\n",
    "    print ('¡Alerta! Buscar asteroide en el cielo')\n",
    "else:\n",
    "    print('Aviso: No hay nada en el cielo')"
   ]
  },
  {
   "cell_type": "markdown",
   "metadata": {},
   "source": [
    "## Información correcta a la gente, según el tamaño y velocidad del asteroiode."
   ]
  },
  {
   "cell_type": "code",
   "execution_count": 4,
   "metadata": {},
   "outputs": [
    {
     "name": "stdout",
     "output_type": "stream",
     "text": [
      "¡Alerta! Buscar asteroide en el cielo\n"
     ]
    }
   ],
   "source": [
    "v_a = 25\n",
    "t_a = 40\n",
    "\n",
    "if v_a > 25 and t_a > 25:\n",
    "    print('¡ADVERTENCIA! ¡Asteroide se acerca a la tierra demasiado rápido!')\n",
    "elif v_a >= 20:\n",
    "    print('¡Alerta! Buscar asteroide en el cielo')\n",
    "elif t_a < 25:\n",
    "    print('Aviso: No hay nada en el cielo')\n",
    "else:\n",
    "    print('Aviso: No hay nada en el cielo')"
   ]
  }
 ],
 "metadata": {
  "interpreter": {
   "hash": ""
  },
  "kernelspec": {
   "display_name": "Python 3.10.2 64-bit",
   "language": "python",
   "name": "python3"
  },
  "language_info": {
   "codemirror_mode": {
    "name": "ipython",
    "version": 3
   },
   "file_extension": ".py",
   "mimetype": "text/x-python",
   "name": "python",
   "nbconvert_exporter": "python",
   "pygments_lexer": "ipython3",
   "version": "3.10.2"
  },
  "orig_nbformat": 4
 },
 "nbformat": 4,
 "nbformat_minor": 2
}
