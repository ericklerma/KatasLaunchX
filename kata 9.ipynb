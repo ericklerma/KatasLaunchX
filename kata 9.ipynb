{
 "cells": [
  {
   "cell_type": "markdown",
   "metadata": {},
   "source": [
    "## Trabajar con argumentos en funciones"
   ]
  },
  {
   "cell_type": "code",
   "execution_count": 18,
   "metadata": {},
   "outputs": [],
   "source": [
    "# Función para leer 3 tanques de combustible y muestre el promedio\n",
    "\n",
    "def total (tank1, tank2, tank3):\n",
    "    mean = (tank1 + tank2 + tank3) / 3\n",
    "\n",
    "    return f\"\"\" Report:\n",
    "    mean: {mean}%\n",
    "    tank1: {tank1}%\n",
    "    tank2: {tank2}%\n",
    "    tank3: {tank3}% \"\"\"\n"
   ]
  },
  {
   "cell_type": "code",
   "execution_count": 19,
   "metadata": {},
   "outputs": [
    {
     "name": "stdout",
     "output_type": "stream",
     "text": [
      " Report:\n",
      "    mean: 90.33333333333333%\n",
      "    tank1: 92%\n",
      "    tank2: 89%\n",
      "    tank3: 90% \n"
     ]
    }
   ],
   "source": [
    "# Llamamos a la función que genera el reporte print(funcion(tanque1, tanque2, tanque3))\n",
    "\n",
    "print(total(92, 89, 90))"
   ]
  },
  {
   "cell_type": "code",
   "execution_count": 20,
   "metadata": {},
   "outputs": [],
   "source": [
    "# Función promedio \n",
    "\n",
    "def mean(values):\n",
    "    t = sum(values)\n",
    "    n = len(values)\n",
    "    return t / n"
   ]
  },
  {
   "cell_type": "code",
   "execution_count": 23,
   "metadata": {},
   "outputs": [
    {
     "name": "stdout",
     "output_type": "stream",
     "text": [
      " Report:\n",
      "    mean: 92.66666666666667%\n",
      "    tank1: 95%\n",
      "    tank2: 92%\n",
      "    tank3: 91% \n"
     ]
    }
   ],
   "source": [
    "# Actualiza la función\n",
    "def total (tank1, tank2, tank3):\n",
    "\n",
    "    return f\"\"\" Report:\n",
    "    mean: {mean([tank1, tank2, tank3])}%\n",
    "    tank1: {tank1}%\n",
    "    tank2: {tank2}%\n",
    "    tank3: {tank3}% \"\"\"\n",
    "\n",
    "print(total(95, 92, 91))"
   ]
  },
  {
   "cell_type": "markdown",
   "metadata": {},
   "source": [
    "## Trabajar con argumentos de palabras clave en funciones"
   ]
  },
  {
   "cell_type": "code",
   "execution_count": 24,
   "metadata": {},
   "outputs": [
    {
     "name": "stdout",
     "output_type": "stream",
     "text": [
      "\n",
      "    Mission to Moon\n",
      "    Total travel time: 117 minutes\n",
      "    Total fuel left: 353000 gallons\n",
      "    \n"
     ]
    }
   ],
   "source": [
    "# Función con un informe preciso de la misión. Considera hora de prelanzamiento, tiempo de vuelo, destino, tanque externo y tanque interno\n",
    "\n",
    "def final_report(pre_launch_time, flight_time, destination, tank2, tank1):\n",
    "    \n",
    "    return f\"\"\"\n",
    "    Mission to {destination}\n",
    "    Total travel time: {pre_launch_time + flight_time} minutes\n",
    "    Total fuel left: {tank2 + tank1} gallons\n",
    "    \"\"\"\n",
    "\n",
    "print(final_report(30, 87, \"Moon\", 150000, 203000))"
   ]
  },
  {
   "cell_type": "code",
   "execution_count": 25,
   "metadata": {},
   "outputs": [
    {
     "name": "stdout",
     "output_type": "stream",
     "text": [
      "\n",
      "    Mission to Moon\n",
      "    Total travel time: 129 minutes\n",
      "    Total fuel left: 353000\n",
      "    \n"
     ]
    }
   ],
   "source": [
    "# Escribe tu nueva función de reporte considerando lo anterior\n",
    "\n",
    "def final_report(destination, *minutes, **fuel_reservoirs):\n",
    "    return f\"\"\"\n",
    "    Mission to {destination}\n",
    "    Total travel time: {sum(minutes)} minutes\n",
    "    Total fuel left: {sum(fuel_reservoirs.values())}\n",
    "    \"\"\"\n",
    "\n",
    "print(final_report(\"Moon\", 12, 30, 87, tank2=150000, tank1=203000))"
   ]
  },
  {
   "cell_type": "code",
   "execution_count": 28,
   "metadata": {},
   "outputs": [
    {
     "name": "stdout",
     "output_type": "stream",
     "text": [
      "\n",
      "    Mission to Moon\n",
      "    Travel time: 129 minutes\n",
      "    Fuel left: 353000\n",
      "    tank2 tank --> 150000 gallons left\n",
      "tank1 tank --> 203000 gallons left\n",
      "\n"
     ]
    }
   ],
   "source": [
    "# Escribe tu nueva función\n",
    "\n",
    "def final_report(destination, *minutes, **fuel_reservoirs):\n",
    "    main = f\"\"\"\n",
    "    Mission to {destination}\n",
    "    Travel time: {sum(minutes)} minutes\n",
    "    Fuel left: {sum(fuel_reservoirs.values())}\n",
    "    \"\"\"\n",
    "    for tank_name, gallons in fuel_reservoirs.items():\n",
    "        main += f\"{tank_name} tank --> {gallons} gallons left\\n\"\n",
    "    return main\n",
    "\n",
    "print(final_report(\"Moon\", 12, 30, 87, tank2=150000, tank1=203000))\n"
   ]
  }
 ],
 "metadata": {
  "interpreter": {
   "hash": ""
  },
  "kernelspec": {
   "display_name": "Python 3.10.2 64-bit",
   "language": "python",
   "name": "python3"
  },
  "language_info": {
   "codemirror_mode": {
    "name": "ipython",
    "version": 3
   },
   "file_extension": ".py",
   "mimetype": "text/x-python",
   "name": "python",
   "nbconvert_exporter": "python",
   "pygments_lexer": "ipython3",
   "version": "3.10.2"
  },
  "orig_nbformat": 4
 },
 "nbformat": 4,
 "nbformat_minor": 2
}
